{
 "cells": [
  {
   "cell_type": "markdown",
   "metadata": {},
   "source": [
    "## 1. Loading Data:"
   ]
  },
  {
   "cell_type": "code",
   "execution_count": 1,
   "metadata": {
    "collapsed": false
   },
   "outputs": [],
   "source": [
    "%matplotlib inline\n",
    "from __future__ import print_function\n",
    "\n",
    "import pandas as pd\n",
    "import numpy as np\n",
    "from sklearn import cross_validation\n",
    "import xgboost as xgb\n",
    "import scipy.stats as stats\n",
    "import matplotlib.pyplot as plt\n",
    "import sklearn\n",
    "import statsmodels.api as sm\n",
    "\n",
    "import seaborn as sns\n",
    "sns.set_style(\"whitegrid\")\n",
    "sns.set_context(\"poster\")\n",
    "\n",
    "from matplotlib import rcParams"
   ]
  },
  {
   "cell_type": "code",
   "execution_count": 2,
   "metadata": {
    "collapsed": false
   },
   "outputs": [
    {
     "name": "stdout",
     "output_type": "stream",
     "text": [
      "Load the training, test and store data using pandas\n"
     ]
    }
   ],
   "source": [
    "train_file = '../input/train.csv'\n",
    "test_file = '../input/test.csv'\n",
    "output_file = '../submissions/benchmark_predictions.csv'\n",
    "\n",
    "print(\"Load the training, test and store data using pandas\")\n",
    "train = pd.read_csv(train_file, low_memory=False)\n",
    "test = pd.read_csv(test_file, low_memory=False)\n",
    "store = pd.read_csv(\"../input/store.csv\", low_memory=False)"
   ]
  },
  {
   "cell_type": "markdown",
   "metadata": {},
   "source": [
    "## 2. Exploratory Data Analysis"
   ]
  },
  {
   "cell_type": "markdown",
   "metadata": {},
   "source": [
    "### 2.1. Look at the columns of train/test dataset."
   ]
  },
  {
   "cell_type": "code",
   "execution_count": 3,
   "metadata": {
    "collapsed": false
   },
   "outputs": [
    {
     "name": "stdout",
     "output_type": "stream",
     "text": [
      "<class 'pandas.core.frame.DataFrame'>\n",
      "Int64Index: 1017209 entries, 0 to 1017208\n",
      "Data columns (total 9 columns):\n",
      "Store            1017209 non-null int64\n",
      "DayOfWeek        1017209 non-null int64\n",
      "Date             1017209 non-null object\n",
      "Sales            1017209 non-null int64\n",
      "Customers        1017209 non-null int64\n",
      "Open             1017209 non-null int64\n",
      "Promo            1017209 non-null int64\n",
      "StateHoliday     1017209 non-null object\n",
      "SchoolHoliday    1017209 non-null int64\n",
      "dtypes: int64(7), object(2)\n",
      "memory usage: 77.6+ MB\n",
      "None\n",
      "----------------------------------------\n",
      "<class 'pandas.core.frame.DataFrame'>\n",
      "Int64Index: 41088 entries, 0 to 41087\n",
      "Data columns (total 8 columns):\n",
      "Id               41088 non-null int64\n",
      "Store            41088 non-null int64\n",
      "DayOfWeek        41088 non-null int64\n",
      "Date             41088 non-null object\n",
      "Open             41077 non-null float64\n",
      "Promo            41088 non-null int64\n",
      "StateHoliday     41088 non-null object\n",
      "SchoolHoliday    41088 non-null int64\n",
      "dtypes: float64(1), int64(5), object(2)\n",
      "memory usage: 2.8+ MB\n",
      "None\n",
      "----------------------------------------\n",
      "<class 'pandas.core.frame.DataFrame'>\n",
      "Int64Index: 1115 entries, 0 to 1114\n",
      "Data columns (total 10 columns):\n",
      "Store                        1115 non-null int64\n",
      "StoreType                    1115 non-null object\n",
      "Assortment                   1115 non-null object\n",
      "CompetitionDistance          1112 non-null float64\n",
      "CompetitionOpenSinceMonth    761 non-null float64\n",
      "CompetitionOpenSinceYear     761 non-null float64\n",
      "Promo2                       1115 non-null int64\n",
      "Promo2SinceWeek              571 non-null float64\n",
      "Promo2SinceYear              571 non-null float64\n",
      "PromoInterval                571 non-null object\n",
      "dtypes: float64(5), int64(2), object(3)\n",
      "memory usage: 95.8+ KB\n",
      "None\n"
     ]
    }
   ],
   "source": [
    "print(train.info())\n",
    "print('-'*40)\n",
    "print(test.info())\n",
    "print('-'*40)\n",
    "print(store.info())"
   ]
  },
  {
   "cell_type": "code",
   "execution_count": 4,
   "metadata": {
    "collapsed": false
   },
   "outputs": [
    {
     "data": {
      "text/html": [
       "<div>\n",
       "<table border=\"1\" class=\"dataframe\">\n",
       "  <thead>\n",
       "    <tr style=\"text-align: right;\">\n",
       "      <th></th>\n",
       "      <th>Store</th>\n",
       "      <th>DayOfWeek</th>\n",
       "      <th>Date</th>\n",
       "      <th>Sales</th>\n",
       "      <th>Customers</th>\n",
       "      <th>Open</th>\n",
       "      <th>Promo</th>\n",
       "      <th>StateHoliday</th>\n",
       "      <th>SchoolHoliday</th>\n",
       "    </tr>\n",
       "  </thead>\n",
       "  <tbody>\n",
       "    <tr>\n",
       "      <th>0</th>\n",
       "      <td>1</td>\n",
       "      <td>5</td>\n",
       "      <td>2015-07-31</td>\n",
       "      <td>5263</td>\n",
       "      <td>555</td>\n",
       "      <td>1</td>\n",
       "      <td>1</td>\n",
       "      <td>0</td>\n",
       "      <td>1</td>\n",
       "    </tr>\n",
       "    <tr>\n",
       "      <th>1</th>\n",
       "      <td>2</td>\n",
       "      <td>5</td>\n",
       "      <td>2015-07-31</td>\n",
       "      <td>6064</td>\n",
       "      <td>625</td>\n",
       "      <td>1</td>\n",
       "      <td>1</td>\n",
       "      <td>0</td>\n",
       "      <td>1</td>\n",
       "    </tr>\n",
       "    <tr>\n",
       "      <th>2</th>\n",
       "      <td>3</td>\n",
       "      <td>5</td>\n",
       "      <td>2015-07-31</td>\n",
       "      <td>8314</td>\n",
       "      <td>821</td>\n",
       "      <td>1</td>\n",
       "      <td>1</td>\n",
       "      <td>0</td>\n",
       "      <td>1</td>\n",
       "    </tr>\n",
       "    <tr>\n",
       "      <th>3</th>\n",
       "      <td>4</td>\n",
       "      <td>5</td>\n",
       "      <td>2015-07-31</td>\n",
       "      <td>13995</td>\n",
       "      <td>1498</td>\n",
       "      <td>1</td>\n",
       "      <td>1</td>\n",
       "      <td>0</td>\n",
       "      <td>1</td>\n",
       "    </tr>\n",
       "    <tr>\n",
       "      <th>4</th>\n",
       "      <td>5</td>\n",
       "      <td>5</td>\n",
       "      <td>2015-07-31</td>\n",
       "      <td>4822</td>\n",
       "      <td>559</td>\n",
       "      <td>1</td>\n",
       "      <td>1</td>\n",
       "      <td>0</td>\n",
       "      <td>1</td>\n",
       "    </tr>\n",
       "  </tbody>\n",
       "</table>\n",
       "</div>"
      ],
      "text/plain": [
       "   Store  DayOfWeek        Date  Sales  Customers  Open  Promo StateHoliday  \\\n",
       "0      1          5  2015-07-31   5263        555     1      1            0   \n",
       "1      2          5  2015-07-31   6064        625     1      1            0   \n",
       "2      3          5  2015-07-31   8314        821     1      1            0   \n",
       "3      4          5  2015-07-31  13995       1498     1      1            0   \n",
       "4      5          5  2015-07-31   4822        559     1      1            0   \n",
       "\n",
       "   SchoolHoliday  \n",
       "0              1  \n",
       "1              1  \n",
       "2              1  \n",
       "3              1  \n",
       "4              1  "
      ]
     },
     "execution_count": 4,
     "metadata": {},
     "output_type": "execute_result"
    }
   ],
   "source": [
    "train.head()"
   ]
  },
  {
   "cell_type": "code",
   "execution_count": 5,
   "metadata": {
    "collapsed": false
   },
   "outputs": [
    {
     "data": {
      "text/html": [
       "<div>\n",
       "<table border=\"1\" class=\"dataframe\">\n",
       "  <thead>\n",
       "    <tr style=\"text-align: right;\">\n",
       "      <th></th>\n",
       "      <th>Id</th>\n",
       "      <th>Store</th>\n",
       "      <th>DayOfWeek</th>\n",
       "      <th>Date</th>\n",
       "      <th>Open</th>\n",
       "      <th>Promo</th>\n",
       "      <th>StateHoliday</th>\n",
       "      <th>SchoolHoliday</th>\n",
       "    </tr>\n",
       "  </thead>\n",
       "  <tbody>\n",
       "    <tr>\n",
       "      <th>0</th>\n",
       "      <td>1</td>\n",
       "      <td>1</td>\n",
       "      <td>4</td>\n",
       "      <td>2015-09-17</td>\n",
       "      <td>1</td>\n",
       "      <td>1</td>\n",
       "      <td>0</td>\n",
       "      <td>0</td>\n",
       "    </tr>\n",
       "    <tr>\n",
       "      <th>1</th>\n",
       "      <td>2</td>\n",
       "      <td>3</td>\n",
       "      <td>4</td>\n",
       "      <td>2015-09-17</td>\n",
       "      <td>1</td>\n",
       "      <td>1</td>\n",
       "      <td>0</td>\n",
       "      <td>0</td>\n",
       "    </tr>\n",
       "    <tr>\n",
       "      <th>2</th>\n",
       "      <td>3</td>\n",
       "      <td>7</td>\n",
       "      <td>4</td>\n",
       "      <td>2015-09-17</td>\n",
       "      <td>1</td>\n",
       "      <td>1</td>\n",
       "      <td>0</td>\n",
       "      <td>0</td>\n",
       "    </tr>\n",
       "    <tr>\n",
       "      <th>3</th>\n",
       "      <td>4</td>\n",
       "      <td>8</td>\n",
       "      <td>4</td>\n",
       "      <td>2015-09-17</td>\n",
       "      <td>1</td>\n",
       "      <td>1</td>\n",
       "      <td>0</td>\n",
       "      <td>0</td>\n",
       "    </tr>\n",
       "    <tr>\n",
       "      <th>4</th>\n",
       "      <td>5</td>\n",
       "      <td>9</td>\n",
       "      <td>4</td>\n",
       "      <td>2015-09-17</td>\n",
       "      <td>1</td>\n",
       "      <td>1</td>\n",
       "      <td>0</td>\n",
       "      <td>0</td>\n",
       "    </tr>\n",
       "  </tbody>\n",
       "</table>\n",
       "</div>"
      ],
      "text/plain": [
       "   Id  Store  DayOfWeek        Date  Open  Promo StateHoliday  SchoolHoliday\n",
       "0   1      1          4  2015-09-17     1      1            0              0\n",
       "1   2      3          4  2015-09-17     1      1            0              0\n",
       "2   3      7          4  2015-09-17     1      1            0              0\n",
       "3   4      8          4  2015-09-17     1      1            0              0\n",
       "4   5      9          4  2015-09-17     1      1            0              0"
      ]
     },
     "execution_count": 5,
     "metadata": {},
     "output_type": "execute_result"
    }
   ],
   "source": [
    "test.head()"
   ]
  },
  {
   "cell_type": "markdown",
   "metadata": {},
   "source": [
    "### 2.2. Number of unique stores in training set."
   ]
  },
  {
   "cell_type": "code",
   "execution_count": 6,
   "metadata": {
    "collapsed": false
   },
   "outputs": [
    {
     "name": "stdout",
     "output_type": "stream",
     "text": [
      "Number of unique stores in train data: 1115\n",
      "Number of unique stores in train data: 856\n"
     ]
    }
   ],
   "source": [
    "print('Number of unique stores in train data: %d' %(len(train.Store.unique())))\n",
    "print('Number of unique stores in train data: %d' %(len(test.Store.unique())))"
   ]
  },
  {
   "cell_type": "markdown",
   "metadata": {},
   "source": [
    "### 2.3. Look into correlations"
   ]
  },
  {
   "cell_type": "code",
   "execution_count": 7,
   "metadata": {
    "collapsed": false
   },
   "outputs": [
    {
     "data": {
      "text/html": [
       "<div>\n",
       "<table border=\"1\" class=\"dataframe\">\n",
       "  <thead>\n",
       "    <tr style=\"text-align: right;\">\n",
       "      <th></th>\n",
       "      <th>Store</th>\n",
       "      <th>DayOfWeek</th>\n",
       "      <th>Sales</th>\n",
       "      <th>Customers</th>\n",
       "      <th>Open</th>\n",
       "      <th>Promo</th>\n",
       "      <th>SchoolHoliday</th>\n",
       "    </tr>\n",
       "  </thead>\n",
       "  <tbody>\n",
       "    <tr>\n",
       "      <th>Store</th>\n",
       "      <td>1.000000</td>\n",
       "      <td>-0.000008</td>\n",
       "      <td>0.005126</td>\n",
       "      <td>0.024325</td>\n",
       "      <td>-0.000047</td>\n",
       "      <td>0.000058</td>\n",
       "      <td>0.000641</td>\n",
       "    </tr>\n",
       "    <tr>\n",
       "      <th>DayOfWeek</th>\n",
       "      <td>-0.000008</td>\n",
       "      <td>1.000000</td>\n",
       "      <td>-0.462125</td>\n",
       "      <td>-0.386445</td>\n",
       "      <td>-0.528963</td>\n",
       "      <td>-0.392925</td>\n",
       "      <td>-0.205388</td>\n",
       "    </tr>\n",
       "    <tr>\n",
       "      <th>Sales</th>\n",
       "      <td>0.005126</td>\n",
       "      <td>-0.462125</td>\n",
       "      <td>1.000000</td>\n",
       "      <td>0.894711</td>\n",
       "      <td>0.678472</td>\n",
       "      <td>0.452345</td>\n",
       "      <td>0.085124</td>\n",
       "    </tr>\n",
       "    <tr>\n",
       "      <th>Customers</th>\n",
       "      <td>0.024325</td>\n",
       "      <td>-0.386445</td>\n",
       "      <td>0.894711</td>\n",
       "      <td>1.000000</td>\n",
       "      <td>0.616768</td>\n",
       "      <td>0.316169</td>\n",
       "      <td>0.071568</td>\n",
       "    </tr>\n",
       "    <tr>\n",
       "      <th>Open</th>\n",
       "      <td>-0.000047</td>\n",
       "      <td>-0.528963</td>\n",
       "      <td>0.678472</td>\n",
       "      <td>0.616768</td>\n",
       "      <td>1.000000</td>\n",
       "      <td>0.295042</td>\n",
       "      <td>0.086171</td>\n",
       "    </tr>\n",
       "    <tr>\n",
       "      <th>Promo</th>\n",
       "      <td>0.000058</td>\n",
       "      <td>-0.392925</td>\n",
       "      <td>0.452345</td>\n",
       "      <td>0.316169</td>\n",
       "      <td>0.295042</td>\n",
       "      <td>1.000000</td>\n",
       "      <td>0.067483</td>\n",
       "    </tr>\n",
       "    <tr>\n",
       "      <th>SchoolHoliday</th>\n",
       "      <td>0.000641</td>\n",
       "      <td>-0.205388</td>\n",
       "      <td>0.085124</td>\n",
       "      <td>0.071568</td>\n",
       "      <td>0.086171</td>\n",
       "      <td>0.067483</td>\n",
       "      <td>1.000000</td>\n",
       "    </tr>\n",
       "  </tbody>\n",
       "</table>\n",
       "</div>"
      ],
      "text/plain": [
       "                  Store  DayOfWeek     Sales  Customers      Open     Promo  \\\n",
       "Store          1.000000  -0.000008  0.005126   0.024325 -0.000047  0.000058   \n",
       "DayOfWeek     -0.000008   1.000000 -0.462125  -0.386445 -0.528963 -0.392925   \n",
       "Sales          0.005126  -0.462125  1.000000   0.894711  0.678472  0.452345   \n",
       "Customers      0.024325  -0.386445  0.894711   1.000000  0.616768  0.316169   \n",
       "Open          -0.000047  -0.528963  0.678472   0.616768  1.000000  0.295042   \n",
       "Promo          0.000058  -0.392925  0.452345   0.316169  0.295042  1.000000   \n",
       "SchoolHoliday  0.000641  -0.205388  0.085124   0.071568  0.086171  0.067483   \n",
       "\n",
       "               SchoolHoliday  \n",
       "Store               0.000641  \n",
       "DayOfWeek          -0.205388  \n",
       "Sales               0.085124  \n",
       "Customers           0.071568  \n",
       "Open                0.086171  \n",
       "Promo               0.067483  \n",
       "SchoolHoliday       1.000000  "
      ]
     },
     "execution_count": 7,
     "metadata": {},
     "output_type": "execute_result"
    }
   ],
   "source": [
    "train.corr()"
   ]
  },
  {
   "cell_type": "markdown",
   "metadata": {},
   "source": [
    "### 2.4. The influence of Open Feature on the sales:"
   ]
  },
  {
   "cell_type": "code",
   "execution_count": 8,
   "metadata": {
    "collapsed": false
   },
   "outputs": [
    {
     "name": "stdout",
     "output_type": "stream",
     "text": [
      "The number of closed stores that zero sales: 172817.\n",
      "The number of closed stores: 172817.\n",
      "Stores which where closed will definately have no sales!\n"
     ]
    }
   ],
   "source": [
    "print(\"The number of closed stores that zero sales: %d.\"%(train.loc[train.Open==0].Sales==0).sum())\n",
    "print(\"The number of closed stores: %d.\"%len(train.loc[train.Open==0]))\n",
    "print(\"Stores which where closed will definately have no sales!\")"
   ]
  },
  {
   "cell_type": "code",
   "execution_count": 9,
   "metadata": {
    "collapsed": false
   },
   "outputs": [
    {
     "name": "stdout",
     "output_type": "stream",
     "text": [
      "Assume store open, if not provided\n",
      "Consider only open stores for training. Closed stores wont count into the score.\n"
     ]
    }
   ],
   "source": [
    "print(\"Assume store open, if not provided\")\n",
    "test.fillna(1, inplace=True)\n",
    "\n",
    "print(\"Consider only open stores for training. Closed stores wont count into the score.\")\n",
    "train = train.loc[train.Sales > 0]"
   ]
  },
  {
   "cell_type": "code",
   "execution_count": 10,
   "metadata": {
    "collapsed": false
   },
   "outputs": [
    {
     "data": {
      "text/html": [
       "<div>\n",
       "<table border=\"1\" class=\"dataframe\">\n",
       "  <thead>\n",
       "    <tr style=\"text-align: right;\">\n",
       "      <th></th>\n",
       "      <th>Store</th>\n",
       "      <th>DayOfWeek</th>\n",
       "      <th>Sales</th>\n",
       "      <th>Customers</th>\n",
       "      <th>Open</th>\n",
       "      <th>Promo</th>\n",
       "      <th>SchoolHoliday</th>\n",
       "    </tr>\n",
       "  </thead>\n",
       "  <tbody>\n",
       "    <tr>\n",
       "      <th>count</th>\n",
       "      <td>844338.000000</td>\n",
       "      <td>844338.000000</td>\n",
       "      <td>844338.000000</td>\n",
       "      <td>844338.000000</td>\n",
       "      <td>844338</td>\n",
       "      <td>844338.000000</td>\n",
       "      <td>844338.000000</td>\n",
       "    </tr>\n",
       "    <tr>\n",
       "      <th>mean</th>\n",
       "      <td>558.421374</td>\n",
       "      <td>3.520350</td>\n",
       "      <td>6955.959134</td>\n",
       "      <td>762.777166</td>\n",
       "      <td>1</td>\n",
       "      <td>0.446356</td>\n",
       "      <td>0.193578</td>\n",
       "    </tr>\n",
       "    <tr>\n",
       "      <th>std</th>\n",
       "      <td>321.730861</td>\n",
       "      <td>1.723712</td>\n",
       "      <td>3103.815515</td>\n",
       "      <td>401.194153</td>\n",
       "      <td>0</td>\n",
       "      <td>0.497114</td>\n",
       "      <td>0.395102</td>\n",
       "    </tr>\n",
       "    <tr>\n",
       "      <th>min</th>\n",
       "      <td>1.000000</td>\n",
       "      <td>1.000000</td>\n",
       "      <td>46.000000</td>\n",
       "      <td>8.000000</td>\n",
       "      <td>1</td>\n",
       "      <td>0.000000</td>\n",
       "      <td>0.000000</td>\n",
       "    </tr>\n",
       "    <tr>\n",
       "      <th>25%</th>\n",
       "      <td>280.000000</td>\n",
       "      <td>2.000000</td>\n",
       "      <td>4859.000000</td>\n",
       "      <td>519.000000</td>\n",
       "      <td>1</td>\n",
       "      <td>0.000000</td>\n",
       "      <td>0.000000</td>\n",
       "    </tr>\n",
       "    <tr>\n",
       "      <th>50%</th>\n",
       "      <td>558.000000</td>\n",
       "      <td>3.000000</td>\n",
       "      <td>6369.000000</td>\n",
       "      <td>676.000000</td>\n",
       "      <td>1</td>\n",
       "      <td>0.000000</td>\n",
       "      <td>0.000000</td>\n",
       "    </tr>\n",
       "    <tr>\n",
       "      <th>75%</th>\n",
       "      <td>837.000000</td>\n",
       "      <td>5.000000</td>\n",
       "      <td>8360.000000</td>\n",
       "      <td>893.000000</td>\n",
       "      <td>1</td>\n",
       "      <td>1.000000</td>\n",
       "      <td>0.000000</td>\n",
       "    </tr>\n",
       "    <tr>\n",
       "      <th>max</th>\n",
       "      <td>1115.000000</td>\n",
       "      <td>7.000000</td>\n",
       "      <td>41551.000000</td>\n",
       "      <td>7388.000000</td>\n",
       "      <td>1</td>\n",
       "      <td>1.000000</td>\n",
       "      <td>1.000000</td>\n",
       "    </tr>\n",
       "  </tbody>\n",
       "</table>\n",
       "</div>"
      ],
      "text/plain": [
       "               Store      DayOfWeek          Sales      Customers    Open  \\\n",
       "count  844338.000000  844338.000000  844338.000000  844338.000000  844338   \n",
       "mean      558.421374       3.520350    6955.959134     762.777166       1   \n",
       "std       321.730861       1.723712    3103.815515     401.194153       0   \n",
       "min         1.000000       1.000000      46.000000       8.000000       1   \n",
       "25%       280.000000       2.000000    4859.000000     519.000000       1   \n",
       "50%       558.000000       3.000000    6369.000000     676.000000       1   \n",
       "75%       837.000000       5.000000    8360.000000     893.000000       1   \n",
       "max      1115.000000       7.000000   41551.000000    7388.000000       1   \n",
       "\n",
       "               Promo  SchoolHoliday  \n",
       "count  844338.000000  844338.000000  \n",
       "mean        0.446356       0.193578  \n",
       "std         0.497114       0.395102  \n",
       "min         0.000000       0.000000  \n",
       "25%         0.000000       0.000000  \n",
       "50%         0.000000       0.000000  \n",
       "75%         1.000000       0.000000  \n",
       "max         1.000000       1.000000  "
      ]
     },
     "execution_count": 10,
     "metadata": {},
     "output_type": "execute_result"
    }
   ],
   "source": [
    "train.describe()"
   ]
  },
  {
   "cell_type": "code",
   "execution_count": 11,
   "metadata": {
    "collapsed": false
   },
   "outputs": [
    {
     "data": {
      "text/html": [
       "<div>\n",
       "<table border=\"1\" class=\"dataframe\">\n",
       "  <thead>\n",
       "    <tr style=\"text-align: right;\">\n",
       "      <th></th>\n",
       "      <th>Id</th>\n",
       "      <th>Store</th>\n",
       "      <th>DayOfWeek</th>\n",
       "      <th>Open</th>\n",
       "      <th>Promo</th>\n",
       "      <th>SchoolHoliday</th>\n",
       "    </tr>\n",
       "  </thead>\n",
       "  <tbody>\n",
       "    <tr>\n",
       "      <th>count</th>\n",
       "      <td>41088.000000</td>\n",
       "      <td>41088.000000</td>\n",
       "      <td>41088.000000</td>\n",
       "      <td>41088.000000</td>\n",
       "      <td>41088.000000</td>\n",
       "      <td>41088.000000</td>\n",
       "    </tr>\n",
       "    <tr>\n",
       "      <th>mean</th>\n",
       "      <td>20544.500000</td>\n",
       "      <td>555.899533</td>\n",
       "      <td>3.979167</td>\n",
       "      <td>0.854361</td>\n",
       "      <td>0.395833</td>\n",
       "      <td>0.443487</td>\n",
       "    </tr>\n",
       "    <tr>\n",
       "      <th>std</th>\n",
       "      <td>11861.228267</td>\n",
       "      <td>320.274496</td>\n",
       "      <td>2.015481</td>\n",
       "      <td>0.352748</td>\n",
       "      <td>0.489035</td>\n",
       "      <td>0.496802</td>\n",
       "    </tr>\n",
       "    <tr>\n",
       "      <th>min</th>\n",
       "      <td>1.000000</td>\n",
       "      <td>1.000000</td>\n",
       "      <td>1.000000</td>\n",
       "      <td>0.000000</td>\n",
       "      <td>0.000000</td>\n",
       "      <td>0.000000</td>\n",
       "    </tr>\n",
       "    <tr>\n",
       "      <th>25%</th>\n",
       "      <td>10272.750000</td>\n",
       "      <td>279.750000</td>\n",
       "      <td>2.000000</td>\n",
       "      <td>1.000000</td>\n",
       "      <td>0.000000</td>\n",
       "      <td>0.000000</td>\n",
       "    </tr>\n",
       "    <tr>\n",
       "      <th>50%</th>\n",
       "      <td>20544.500000</td>\n",
       "      <td>553.500000</td>\n",
       "      <td>4.000000</td>\n",
       "      <td>1.000000</td>\n",
       "      <td>0.000000</td>\n",
       "      <td>0.000000</td>\n",
       "    </tr>\n",
       "    <tr>\n",
       "      <th>75%</th>\n",
       "      <td>30816.250000</td>\n",
       "      <td>832.250000</td>\n",
       "      <td>6.000000</td>\n",
       "      <td>1.000000</td>\n",
       "      <td>1.000000</td>\n",
       "      <td>1.000000</td>\n",
       "    </tr>\n",
       "    <tr>\n",
       "      <th>max</th>\n",
       "      <td>41088.000000</td>\n",
       "      <td>1115.000000</td>\n",
       "      <td>7.000000</td>\n",
       "      <td>1.000000</td>\n",
       "      <td>1.000000</td>\n",
       "      <td>1.000000</td>\n",
       "    </tr>\n",
       "  </tbody>\n",
       "</table>\n",
       "</div>"
      ],
      "text/plain": [
       "                 Id         Store     DayOfWeek          Open         Promo  \\\n",
       "count  41088.000000  41088.000000  41088.000000  41088.000000  41088.000000   \n",
       "mean   20544.500000    555.899533      3.979167      0.854361      0.395833   \n",
       "std    11861.228267    320.274496      2.015481      0.352748      0.489035   \n",
       "min        1.000000      1.000000      1.000000      0.000000      0.000000   \n",
       "25%    10272.750000    279.750000      2.000000      1.000000      0.000000   \n",
       "50%    20544.500000    553.500000      4.000000      1.000000      0.000000   \n",
       "75%    30816.250000    832.250000      6.000000      1.000000      1.000000   \n",
       "max    41088.000000   1115.000000      7.000000      1.000000      1.000000   \n",
       "\n",
       "       SchoolHoliday  \n",
       "count   41088.000000  \n",
       "mean        0.443487  \n",
       "std         0.496802  \n",
       "min         0.000000  \n",
       "25%         0.000000  \n",
       "50%         0.000000  \n",
       "75%         1.000000  \n",
       "max         1.000000  "
      ]
     },
     "execution_count": 11,
     "metadata": {},
     "output_type": "execute_result"
    }
   ],
   "source": [
    "test.describe()"
   ]
  },
  {
   "cell_type": "markdown",
   "metadata": {},
   "source": [
    "* Start/End Date Feature of train/test dataset"
   ]
  },
  {
   "cell_type": "code",
   "execution_count": 12,
   "metadata": {
    "collapsed": false
   },
   "outputs": [
    {
     "name": "stdout",
     "output_type": "stream",
     "text": [
      "Train dataset started from 2013-01-01, to 2015-07-31.\n",
      "Test dataset started from 2015-08-01, to 2015-09-17.\n"
     ]
    }
   ],
   "source": [
    "print(\"Train dataset started from %s, to %s.\"%(train.Date.min(), train.Date.max()))\n",
    "print(\"Test dataset started from %s, to %s.\"%(test.Date.min(), test.Date.max()))"
   ]
  },
  {
   "cell_type": "markdown",
   "metadata": {},
   "source": [
    "### 2.5. Join train and test dataset with store:"
   ]
  },
  {
   "cell_type": "code",
   "execution_count": 13,
   "metadata": {
    "collapsed": false
   },
   "outputs": [
    {
     "name": "stdout",
     "output_type": "stream",
     "text": [
      "Join with store\n"
     ]
    }
   ],
   "source": [
    "print(\"Join with store\")\n",
    "train = pd.merge(train, store, on='Store')\n",
    "test = pd.merge(test, store, on='Store')"
   ]
  },
  {
   "cell_type": "markdown",
   "metadata": {},
   "source": [
    "## 3. Linear Regression:"
   ]
  },
  {
   "cell_type": "markdown",
   "metadata": {},
   "source": [
    "## 4. Bench Mark Solution:\n",
    "\n",
    "Bench Mark Solution here uses the DayOfWeek to make prediction"
   ]
  },
  {
   "cell_type": "code",
   "execution_count": 14,
   "metadata": {
    "collapsed": false
   },
   "outputs": [],
   "source": [
    "## Bench mark Solution:\n",
    "columns = ['Store', 'DayOfWeek', 'Promo']\n",
    "\n",
    "medians = train.groupby( columns ).Sales.median()\n",
    "medians = medians.reset_index()\n",
    "\n",
    "test2 = pd.merge( test, medians, on = columns, how = 'left' )\n",
    "assert( len( test2 ) == len( test ))\n",
    "\n",
    "test2.loc[ test2.Open == 0, 'Sales' ] = 0\n",
    "assert( test2.Sales.isnull().sum() == 0 )\n",
    "\n",
    "test2[[ 'Id', 'Sales' ]].to_csv( output_file, index = False )"
   ]
  },
  {
   "cell_type": "markdown",
   "metadata": {},
   "source": [
    "## 5. Evaluation Metric: RMSPE\n",
    "\n",
    "Root Mean Square Percentage Error"
   ]
  },
  {
   "cell_type": "code",
   "execution_count": 15,
   "metadata": {
    "collapsed": true
   },
   "outputs": [],
   "source": [
    "from math import sqrt\n",
    "\n",
    "def rmspe(y_true, y_pred):\n",
    "    \"\"\"\n",
    "    Root Mean Square Percentage Error\n",
    "    \n",
    "    Args:\n",
    "    y_true: true values for y\n",
    "    y_pred: estimated values for y\n",
    "    \n",
    "    Returns: rmspe\n",
    "    \"\"\"\n",
    "    \n",
    "    n = len(y_true)\n",
    "    e = []\n",
    "    for i in range(n):\n",
    "        if y_true[i] != 0:\n",
    "            e.append((y_true[i] - y_pred[i]) / np.float(y_true[i]))\n",
    "        else:\n",
    "            e.append(0.0)\n",
    "    \n",
    "    e = np.array(e)\n",
    "    e_squared = e ** 2\n",
    "    \n",
    "    return sqrt(np.sum(e_squared) / n)\n"
   ]
  },
  {
   "cell_type": "code",
   "execution_count": 16,
   "metadata": {
    "collapsed": true
   },
   "outputs": [],
   "source": [
    "# Evaluation: Using Root Mean Suare Percentage Error(RMSPE).\n",
    "def ToWeight(y):\n",
    "    w = np.zeros(y.shape, dtype=float)\n",
    "    ind = y != 0\n",
    "    w[ind] = 1./(y[ind]**2)\n",
    "    return w\n",
    "\n",
    "\n",
    "def rmspe(yhat, y):\n",
    "    w = ToWeight(y)\n",
    "    rmspe = np.sqrt(np.mean(w * (y - yhat)**2))\n",
    "    return rmspe\n",
    "\n",
    "\n",
    "def rmspe_xg(yhat, y):\n",
    "    # y = y.values\n",
    "    y = y.get_label()\n",
    "    y = np.exp(y) - 1\n",
    "    yhat = np.exp(yhat) - 1\n",
    "    w = ToWeight(y)\n",
    "    rmspe = np.sqrt(np.mean(w * (y - yhat)**2))\n",
    "    return \"rmspe\", rmspe\n",
    "\n",
    "\n",
    "# Gather some features\n",
    "def build_features(features, data):\n",
    "    # remove NaNs\n",
    "    data.fillna(0, inplace=True)\n",
    "    data.loc[data.Open.isnull(), 'Open'] = 1\n",
    "    # Use some properties directly\n",
    "    features.extend(['Store', 'CompetitionDistance', 'CompetitionOpenSinceMonth',\n",
    "                     'CompetitionOpenSinceYear', 'Promo', 'Promo2', 'Promo2SinceWeek', 'Promo2SinceYear'])\n",
    "\n",
    "    # add some more with a bit of preprocessing\n",
    "    features.append('SchoolHoliday')\n",
    "    data['SchoolHoliday'] = data['SchoolHoliday'].astype(float)\n",
    "    #\n",
    "    #features.append('StateHoliday')\n",
    "    #data.loc[data['StateHoliday'] == 'a', 'StateHoliday'] = '1'\n",
    "    #data.loc[data['StateHoliday'] == 'b', 'StateHoliday'] = '2'\n",
    "    #data.loc[data['StateHoliday'] == 'c', 'StateHoliday'] = '3'\n",
    "    #data['StateHoliday'] = data['StateHoliday'].astype(float)\n",
    "\n",
    "    features.append('DayOfWeek')\n",
    "    features.append('month')\n",
    "    features.append('day')\n",
    "    features.append('year')\n",
    "    data['year'] = data.Date.apply(lambda x: x.split('-')[0])\n",
    "    data['year'] = data['year'].astype(float)\n",
    "    data['month'] = data.Date.apply(lambda x: x.split('-')[1])\n",
    "    data['month'] = data['month'].astype(float)\n",
    "    data['day'] = data.Date.apply(lambda x: x.split('-')[2])\n",
    "    data['day'] = data['day'].astype(float)\n",
    "\n",
    "    features.append('StoreType')\n",
    "    data.loc[data['StoreType'] == 'a', 'StoreType'] = '1'\n",
    "    data.loc[data['StoreType'] == 'b', 'StoreType'] = '2'\n",
    "    data.loc[data['StoreType'] == 'c', 'StoreType'] = '3'\n",
    "    data.loc[data['StoreType'] == 'd', 'StoreType'] = '4'\n",
    "    data['StoreType'] = data['StoreType'].astype(float)\n",
    "\n",
    "    features.append('Assortment')\n",
    "    data.loc[data['Assortment'] == 'a', 'Assortment'] = '1'\n",
    "    data.loc[data['Assortment'] == 'b', 'Assortment'] = '2'\n",
    "    data.loc[data['Assortment'] == 'c', 'Assortment'] = '3'\n",
    "    data['Assortment'] = data['Assortment'].astype(float)"
   ]
  },
  {
   "cell_type": "code",
   "execution_count": 17,
   "metadata": {
    "collapsed": false
   },
   "outputs": [
    {
     "name": "stdout",
     "output_type": "stream",
     "text": [
      "augment features\n",
      "['Store', 'CompetitionDistance', 'CompetitionOpenSinceMonth', 'CompetitionOpenSinceYear', 'Promo', 'Promo2', 'Promo2SinceWeek', 'Promo2SinceYear', 'SchoolHoliday', 'DayOfWeek', 'month', 'day', 'year', 'StoreType', 'Assortment']\n"
     ]
    }
   ],
   "source": [
    "print(\"augment features\")\n",
    "features = []\n",
    "build_features(features, train)\n",
    "build_features([], test)\n",
    "print(features)"
   ]
  },
  {
   "cell_type": "code",
   "execution_count": 18,
   "metadata": {
    "collapsed": false,
    "scrolled": true
   },
   "outputs": [
    {
     "name": "stderr",
     "output_type": "stream",
     "text": [
      "Will train until train error hasn't decreased in 50 rounds.\n",
      "[0]\teval-rmspe:0.996828\ttrain-rmspe:0.996841\n",
      "[1]\teval-rmspe:0.981420\ttrain-rmspe:0.981508\n",
      "[2]\teval-rmspe:0.937684\ttrain-rmspe:0.937996\n",
      "[3]\teval-rmspe:0.855570\ttrain-rmspe:0.856365\n",
      "[4]\teval-rmspe:0.741791\ttrain-rmspe:0.743679\n",
      "[5]\teval-rmspe:0.615815\ttrain-rmspe:0.619207\n",
      "[6]\teval-rmspe:0.499311\ttrain-rmspe:0.504877\n",
      "[7]\teval-rmspe:0.407332\ttrain-rmspe:0.416266\n",
      "[8]\teval-rmspe:0.347004\ttrain-rmspe:0.359224\n",
      "[9]\teval-rmspe:0.314730\ttrain-rmspe:0.330209\n",
      "[10]\teval-rmspe:0.303087\ttrain-rmspe:0.320009\n",
      "[11]\teval-rmspe:0.299600\ttrain-rmspe:0.316955\n",
      "[12]\teval-rmspe:0.296917\ttrain-rmspe:0.316518\n",
      "[13]\teval-rmspe:0.300308\ttrain-rmspe:0.319967\n",
      "[14]\teval-rmspe:0.301016\ttrain-rmspe:0.321353\n",
      "[15]\teval-rmspe:0.288851\ttrain-rmspe:0.310680\n",
      "[16]\teval-rmspe:0.285062\ttrain-rmspe:0.306290\n",
      "[17]\teval-rmspe:0.284796\ttrain-rmspe:0.307748\n",
      "[18]\teval-rmspe:0.280256\ttrain-rmspe:0.304481\n",
      "[19]\teval-rmspe:0.276705\ttrain-rmspe:0.301520\n",
      "[20]\teval-rmspe:0.275308\ttrain-rmspe:0.299460\n",
      "[21]\teval-rmspe:0.271975\ttrain-rmspe:0.296406\n",
      "[22]\teval-rmspe:0.268407\ttrain-rmspe:0.293049\n",
      "[23]\teval-rmspe:0.266121\ttrain-rmspe:0.291131\n",
      "[24]\teval-rmspe:0.257707\ttrain-rmspe:0.283149\n",
      "[25]\teval-rmspe:0.252683\ttrain-rmspe:0.279028\n",
      "[26]\teval-rmspe:0.248964\ttrain-rmspe:0.276787\n",
      "[27]\teval-rmspe:0.247385\ttrain-rmspe:0.274343\n",
      "[28]\teval-rmspe:0.244292\ttrain-rmspe:0.270826\n",
      "[29]\teval-rmspe:0.239139\ttrain-rmspe:0.266411\n",
      "[30]\teval-rmspe:0.238452\ttrain-rmspe:0.265737\n",
      "[31]\teval-rmspe:0.233508\ttrain-rmspe:0.261660\n",
      "[32]\teval-rmspe:0.230106\ttrain-rmspe:0.258154\n",
      "[33]\teval-rmspe:0.227789\ttrain-rmspe:0.256251\n",
      "[34]\teval-rmspe:0.226542\ttrain-rmspe:0.255024\n",
      "[35]\teval-rmspe:0.222650\ttrain-rmspe:0.251610\n",
      "[36]\teval-rmspe:0.220553\ttrain-rmspe:0.250408\n",
      "[37]\teval-rmspe:0.220128\ttrain-rmspe:0.249966\n",
      "[38]\teval-rmspe:0.215086\ttrain-rmspe:0.245593\n",
      "[39]\teval-rmspe:0.212560\ttrain-rmspe:0.243948\n",
      "[40]\teval-rmspe:0.209831\ttrain-rmspe:0.241708\n",
      "[41]\teval-rmspe:0.205622\ttrain-rmspe:0.239519\n",
      "[42]\teval-rmspe:0.205108\ttrain-rmspe:0.238682\n",
      "[43]\teval-rmspe:0.204269\ttrain-rmspe:0.237949\n",
      "[44]\teval-rmspe:0.203904\ttrain-rmspe:0.237536\n",
      "[45]\teval-rmspe:0.201419\ttrain-rmspe:0.235364\n",
      "[46]\teval-rmspe:0.199222\ttrain-rmspe:0.233607\n",
      "[47]\teval-rmspe:0.196068\ttrain-rmspe:0.231211\n",
      "[48]\teval-rmspe:0.193487\ttrain-rmspe:0.229415\n",
      "[49]\teval-rmspe:0.192326\ttrain-rmspe:0.228501\n",
      "[50]\teval-rmspe:0.188772\ttrain-rmspe:0.225720\n",
      "[51]\teval-rmspe:0.186030\ttrain-rmspe:0.223935\n",
      "[52]\teval-rmspe:0.183315\ttrain-rmspe:0.222364\n",
      "[53]\teval-rmspe:0.181725\ttrain-rmspe:0.221180\n",
      "[54]\teval-rmspe:0.181002\ttrain-rmspe:0.220287\n",
      "[55]\teval-rmspe:0.180532\ttrain-rmspe:0.219909\n",
      "[56]\teval-rmspe:0.180148\ttrain-rmspe:0.219447\n",
      "[57]\teval-rmspe:0.177691\ttrain-rmspe:0.217740\n",
      "[58]\teval-rmspe:0.177160\ttrain-rmspe:0.217403\n",
      "[59]\teval-rmspe:0.176787\ttrain-rmspe:0.217372\n",
      "[60]\teval-rmspe:0.176309\ttrain-rmspe:0.216721\n",
      "[61]\teval-rmspe:0.175582\ttrain-rmspe:0.216362\n",
      "[62]\teval-rmspe:0.175414\ttrain-rmspe:0.216221\n",
      "[63]\teval-rmspe:0.172519\ttrain-rmspe:0.212039\n",
      "[64]\teval-rmspe:0.171690\ttrain-rmspe:0.211159\n",
      "[65]\teval-rmspe:0.170840\ttrain-rmspe:0.210365\n",
      "[66]\teval-rmspe:0.170012\ttrain-rmspe:0.209393\n",
      "[67]\teval-rmspe:0.168502\ttrain-rmspe:0.207953\n",
      "[68]\teval-rmspe:0.168108\ttrain-rmspe:0.207418\n",
      "[69]\teval-rmspe:0.166723\ttrain-rmspe:0.206536\n",
      "[70]\teval-rmspe:0.166488\ttrain-rmspe:0.206259\n",
      "[71]\teval-rmspe:0.165921\ttrain-rmspe:0.205792\n",
      "[72]\teval-rmspe:0.164331\ttrain-rmspe:0.205010\n",
      "[73]\teval-rmspe:0.162797\ttrain-rmspe:0.194556\n",
      "[74]\teval-rmspe:0.162417\ttrain-rmspe:0.192475\n",
      "[75]\teval-rmspe:0.161543\ttrain-rmspe:0.191538\n",
      "[76]\teval-rmspe:0.160895\ttrain-rmspe:0.191038\n",
      "[77]\teval-rmspe:0.160577\ttrain-rmspe:0.190127\n",
      "[78]\teval-rmspe:0.160489\ttrain-rmspe:0.189834\n",
      "[79]\teval-rmspe:0.160014\ttrain-rmspe:0.189808\n",
      "[80]\teval-rmspe:0.158966\ttrain-rmspe:0.188996\n",
      "[81]\teval-rmspe:0.158294\ttrain-rmspe:0.188331\n",
      "[82]\teval-rmspe:0.157517\ttrain-rmspe:0.187285\n",
      "[83]\teval-rmspe:0.157931\ttrain-rmspe:0.186830\n",
      "[84]\teval-rmspe:0.157662\ttrain-rmspe:0.186424\n",
      "[85]\teval-rmspe:0.156929\ttrain-rmspe:0.185258\n",
      "[86]\teval-rmspe:0.156204\ttrain-rmspe:0.184803\n",
      "[87]\teval-rmspe:0.155257\ttrain-rmspe:0.184316\n",
      "[88]\teval-rmspe:0.154805\ttrain-rmspe:0.183713\n",
      "[89]\teval-rmspe:0.154524\ttrain-rmspe:0.183467\n",
      "[90]\teval-rmspe:0.153946\ttrain-rmspe:0.183002\n",
      "[91]\teval-rmspe:0.153584\ttrain-rmspe:0.182624\n",
      "[92]\teval-rmspe:0.153252\ttrain-rmspe:0.182358\n",
      "[93]\teval-rmspe:0.152842\ttrain-rmspe:0.182096\n",
      "[94]\teval-rmspe:0.152523\ttrain-rmspe:0.181846\n",
      "[95]\teval-rmspe:0.152156\ttrain-rmspe:0.181507\n",
      "[96]\teval-rmspe:0.151923\ttrain-rmspe:0.181392\n",
      "[97]\teval-rmspe:0.151806\ttrain-rmspe:0.182011\n",
      "[98]\teval-rmspe:0.151009\ttrain-rmspe:0.180841\n",
      "[99]\teval-rmspe:0.150725\ttrain-rmspe:0.180184\n",
      "[100]\teval-rmspe:0.150258\ttrain-rmspe:0.179136\n",
      "[101]\teval-rmspe:0.150074\ttrain-rmspe:0.178606\n",
      "[102]\teval-rmspe:0.149856\ttrain-rmspe:0.178246\n",
      "[103]\teval-rmspe:0.149679\ttrain-rmspe:0.177859\n",
      "[104]\teval-rmspe:0.149299\ttrain-rmspe:0.177614\n",
      "[105]\teval-rmspe:0.149010\ttrain-rmspe:0.177110\n",
      "[106]\teval-rmspe:0.148845\ttrain-rmspe:0.176957\n",
      "[107]\teval-rmspe:0.148288\ttrain-rmspe:0.176692\n",
      "[108]\teval-rmspe:0.148085\ttrain-rmspe:0.176442\n",
      "[109]\teval-rmspe:0.147838\ttrain-rmspe:0.176167\n",
      "[110]\teval-rmspe:0.147694\ttrain-rmspe:0.176047\n",
      "[111]\teval-rmspe:0.147180\ttrain-rmspe:0.175705\n",
      "[112]\teval-rmspe:0.147066\ttrain-rmspe:0.175519\n",
      "[113]\teval-rmspe:0.146686\ttrain-rmspe:0.174981\n",
      "[114]\teval-rmspe:0.146325\ttrain-rmspe:0.174835\n",
      "[115]\teval-rmspe:0.146217\ttrain-rmspe:0.174450\n",
      "[116]\teval-rmspe:0.146073\ttrain-rmspe:0.173332\n",
      "[117]\teval-rmspe:0.145668\ttrain-rmspe:0.173591\n",
      "[118]\teval-rmspe:0.145228\ttrain-rmspe:0.173206\n",
      "[119]\teval-rmspe:0.145061\ttrain-rmspe:0.173037\n",
      "[120]\teval-rmspe:0.144638\ttrain-rmspe:0.172723\n",
      "[121]\teval-rmspe:0.144820\ttrain-rmspe:0.172587\n",
      "[122]\teval-rmspe:0.144670\ttrain-rmspe:0.172436\n",
      "[123]\teval-rmspe:0.144466\ttrain-rmspe:0.172202\n",
      "[124]\teval-rmspe:0.144342\ttrain-rmspe:0.172233\n",
      "[125]\teval-rmspe:0.144138\ttrain-rmspe:0.171816\n",
      "[126]\teval-rmspe:0.143910\ttrain-rmspe:0.171499\n",
      "[127]\teval-rmspe:0.143575\ttrain-rmspe:0.171125\n",
      "[128]\teval-rmspe:0.143415\ttrain-rmspe:0.171049\n",
      "[129]\teval-rmspe:0.142862\ttrain-rmspe:0.170780\n",
      "[130]\teval-rmspe:0.142610\ttrain-rmspe:0.170585\n",
      "[131]\teval-rmspe:0.142390\ttrain-rmspe:0.170394\n",
      "[132]\teval-rmspe:0.141985\ttrain-rmspe:0.170189\n",
      "[133]\teval-rmspe:0.141905\ttrain-rmspe:0.170014\n",
      "[134]\teval-rmspe:0.141828\ttrain-rmspe:0.169832\n",
      "[135]\teval-rmspe:0.141683\ttrain-rmspe:0.169714\n",
      "[136]\teval-rmspe:0.141419\ttrain-rmspe:0.169628\n",
      "[137]\teval-rmspe:0.141081\ttrain-rmspe:0.169211\n",
      "[138]\teval-rmspe:0.140887\ttrain-rmspe:0.168622\n",
      "[139]\teval-rmspe:0.140561\ttrain-rmspe:0.168107\n",
      "[140]\teval-rmspe:0.140365\ttrain-rmspe:0.167924\n",
      "[141]\teval-rmspe:0.140119\ttrain-rmspe:0.167733\n",
      "[142]\teval-rmspe:0.139995\ttrain-rmspe:0.167612\n",
      "[143]\teval-rmspe:0.139804\ttrain-rmspe:0.167258\n",
      "[144]\teval-rmspe:0.139767\ttrain-rmspe:0.167120\n",
      "[145]\teval-rmspe:0.139285\ttrain-rmspe:0.166488\n",
      "[146]\teval-rmspe:0.139176\ttrain-rmspe:0.166309\n",
      "[147]\teval-rmspe:0.138763\ttrain-rmspe:0.165974\n",
      "[148]\teval-rmspe:0.138427\ttrain-rmspe:0.165724\n",
      "[149]\teval-rmspe:0.138288\ttrain-rmspe:0.165615\n",
      "[150]\teval-rmspe:0.138163\ttrain-rmspe:0.165499\n",
      "[151]\teval-rmspe:0.138108\ttrain-rmspe:0.165401\n",
      "[152]\teval-rmspe:0.137886\ttrain-rmspe:0.165197\n",
      "[153]\teval-rmspe:0.137477\ttrain-rmspe:0.165061\n",
      "[154]\teval-rmspe:0.137334\ttrain-rmspe:0.164961\n",
      "[155]\teval-rmspe:0.136951\ttrain-rmspe:0.164749\n",
      "[156]\teval-rmspe:0.136857\ttrain-rmspe:0.164484\n",
      "[157]\teval-rmspe:0.136726\ttrain-rmspe:0.164441\n",
      "[158]\teval-rmspe:0.136721\ttrain-rmspe:0.164327\n",
      "[159]\teval-rmspe:0.136485\ttrain-rmspe:0.164055\n",
      "[160]\teval-rmspe:0.136453\ttrain-rmspe:0.164023\n",
      "[161]\teval-rmspe:0.136411\ttrain-rmspe:0.163887\n",
      "[162]\teval-rmspe:0.136403\ttrain-rmspe:0.163661\n",
      "[163]\teval-rmspe:0.136263\ttrain-rmspe:0.163542\n",
      "[164]\teval-rmspe:0.136153\ttrain-rmspe:0.163442\n",
      "[165]\teval-rmspe:0.136008\ttrain-rmspe:0.163341\n",
      "[166]\teval-rmspe:0.135934\ttrain-rmspe:0.163169\n",
      "[167]\teval-rmspe:0.135533\ttrain-rmspe:0.163318\n",
      "[168]\teval-rmspe:0.135433\ttrain-rmspe:0.163205\n",
      "[169]\teval-rmspe:0.135300\ttrain-rmspe:0.163126\n",
      "[170]\teval-rmspe:0.135102\ttrain-rmspe:0.162710\n",
      "[171]\teval-rmspe:0.135002\ttrain-rmspe:0.162599\n",
      "[172]\teval-rmspe:0.134821\ttrain-rmspe:0.161983\n",
      "[173]\teval-rmspe:0.134605\ttrain-rmspe:0.161492\n",
      "[174]\teval-rmspe:0.134470\ttrain-rmspe:0.161392\n",
      "[175]\teval-rmspe:0.134146\ttrain-rmspe:0.160969\n",
      "[176]\teval-rmspe:0.134069\ttrain-rmspe:0.160891\n",
      "[177]\teval-rmspe:0.134174\ttrain-rmspe:0.161798\n",
      "[178]\teval-rmspe:0.134062\ttrain-rmspe:0.161711\n",
      "[179]\teval-rmspe:0.133863\ttrain-rmspe:0.161354\n",
      "[180]\teval-rmspe:0.133787\ttrain-rmspe:0.161218\n",
      "[181]\teval-rmspe:0.133640\ttrain-rmspe:0.161007\n",
      "[182]\teval-rmspe:0.133157\ttrain-rmspe:0.160525\n",
      "[183]\teval-rmspe:0.133095\ttrain-rmspe:0.160322\n",
      "[184]\teval-rmspe:0.133066\ttrain-rmspe:0.160251\n",
      "[185]\teval-rmspe:0.132905\ttrain-rmspe:0.160295\n",
      "[186]\teval-rmspe:0.133049\ttrain-rmspe:0.160205\n",
      "[187]\teval-rmspe:0.132983\ttrain-rmspe:0.160094\n",
      "[188]\teval-rmspe:0.132860\ttrain-rmspe:0.160003\n",
      "[189]\teval-rmspe:0.132906\ttrain-rmspe:0.159860\n",
      "[190]\teval-rmspe:0.132951\ttrain-rmspe:0.159819\n",
      "[191]\teval-rmspe:0.132930\ttrain-rmspe:0.159752\n",
      "[192]\teval-rmspe:0.132857\ttrain-rmspe:0.159673\n",
      "[193]\teval-rmspe:0.132805\ttrain-rmspe:0.159616\n",
      "[194]\teval-rmspe:0.132769\ttrain-rmspe:0.159560\n",
      "[195]\teval-rmspe:0.132624\ttrain-rmspe:0.159570\n",
      "[196]\teval-rmspe:0.132683\ttrain-rmspe:0.159513\n",
      "[197]\teval-rmspe:0.132569\ttrain-rmspe:0.159380\n",
      "[198]\teval-rmspe:0.132427\ttrain-rmspe:0.159258\n",
      "[199]\teval-rmspe:0.132302\ttrain-rmspe:0.159029\n",
      "[200]\teval-rmspe:0.132340\ttrain-rmspe:0.159003\n",
      "[201]\teval-rmspe:0.132329\ttrain-rmspe:0.158941\n",
      "[202]\teval-rmspe:0.132198\ttrain-rmspe:0.158172\n",
      "[203]\teval-rmspe:0.132043\ttrain-rmspe:0.158034\n",
      "[204]\teval-rmspe:0.131866\ttrain-rmspe:0.157955\n",
      "[205]\teval-rmspe:0.131835\ttrain-rmspe:0.157809\n",
      "[206]\teval-rmspe:0.131549\ttrain-rmspe:0.157602\n",
      "[207]\teval-rmspe:0.131533\ttrain-rmspe:0.157469\n",
      "[208]\teval-rmspe:0.131406\ttrain-rmspe:0.157683\n",
      "[209]\teval-rmspe:0.131310\ttrain-rmspe:0.157533\n",
      "[210]\teval-rmspe:0.131186\ttrain-rmspe:0.157459\n",
      "[211]\teval-rmspe:0.131165\ttrain-rmspe:0.157408\n",
      "[212]\teval-rmspe:0.131107\ttrain-rmspe:0.157186\n",
      "[213]\teval-rmspe:0.131063\ttrain-rmspe:0.146093\n",
      "[214]\teval-rmspe:0.131013\ttrain-rmspe:0.146018\n",
      "[215]\teval-rmspe:0.130918\ttrain-rmspe:0.145969\n",
      "[216]\teval-rmspe:0.130813\ttrain-rmspe:0.145822\n",
      "[217]\teval-rmspe:0.130742\ttrain-rmspe:0.145762\n",
      "[218]\teval-rmspe:0.130048\ttrain-rmspe:0.145620\n",
      "[219]\teval-rmspe:0.130004\ttrain-rmspe:0.145579\n",
      "[220]\teval-rmspe:0.129926\ttrain-rmspe:0.145511\n",
      "[221]\teval-rmspe:0.129915\ttrain-rmspe:0.145489\n",
      "[222]\teval-rmspe:0.129857\ttrain-rmspe:0.145442\n",
      "[223]\teval-rmspe:0.129876\ttrain-rmspe:0.145381\n",
      "[224]\teval-rmspe:0.129802\ttrain-rmspe:0.145256\n",
      "[225]\teval-rmspe:0.129766\ttrain-rmspe:0.145189\n",
      "[226]\teval-rmspe:0.129640\ttrain-rmspe:0.145142\n",
      "[227]\teval-rmspe:0.128195\ttrain-rmspe:0.144646\n",
      "[228]\teval-rmspe:0.128122\ttrain-rmspe:0.144588\n",
      "[229]\teval-rmspe:0.128016\ttrain-rmspe:0.144412\n",
      "[230]\teval-rmspe:0.127997\ttrain-rmspe:0.144387\n",
      "[231]\teval-rmspe:0.127895\ttrain-rmspe:0.144237\n",
      "[232]\teval-rmspe:0.127832\ttrain-rmspe:0.144150\n",
      "[233]\teval-rmspe:0.127718\ttrain-rmspe:0.143830\n",
      "[234]\teval-rmspe:0.127720\ttrain-rmspe:0.143794\n",
      "[235]\teval-rmspe:0.127433\ttrain-rmspe:0.144351\n",
      "[236]\teval-rmspe:0.127395\ttrain-rmspe:0.144296\n",
      "[237]\teval-rmspe:0.127318\ttrain-rmspe:0.144173\n",
      "[238]\teval-rmspe:0.127336\ttrain-rmspe:0.144174\n",
      "[239]\teval-rmspe:0.127270\ttrain-rmspe:0.144143\n",
      "[240]\teval-rmspe:0.127275\ttrain-rmspe:0.143705\n",
      "[241]\teval-rmspe:0.127282\ttrain-rmspe:0.143697\n",
      "[242]\teval-rmspe:0.127083\ttrain-rmspe:0.143515\n",
      "[243]\teval-rmspe:0.127044\ttrain-rmspe:0.143482\n",
      "[244]\teval-rmspe:0.127036\ttrain-rmspe:0.143495\n",
      "[245]\teval-rmspe:0.127027\ttrain-rmspe:0.143431\n",
      "[246]\teval-rmspe:0.126958\ttrain-rmspe:0.143339\n",
      "[247]\teval-rmspe:0.126995\ttrain-rmspe:0.143263\n",
      "[248]\teval-rmspe:0.126966\ttrain-rmspe:0.143141\n",
      "[249]\teval-rmspe:0.126958\ttrain-rmspe:0.143032\n",
      "[250]\teval-rmspe:0.127035\ttrain-rmspe:0.142619\n",
      "[251]\teval-rmspe:0.126987\ttrain-rmspe:0.142580\n",
      "[252]\teval-rmspe:0.127097\ttrain-rmspe:0.142439\n",
      "[253]\teval-rmspe:0.127129\ttrain-rmspe:0.142406\n",
      "[254]\teval-rmspe:0.126852\ttrain-rmspe:0.142245\n",
      "[255]\teval-rmspe:0.126960\ttrain-rmspe:0.142220\n",
      "[256]\teval-rmspe:0.126940\ttrain-rmspe:0.142181\n",
      "[257]\teval-rmspe:0.126768\ttrain-rmspe:0.142084\n",
      "[258]\teval-rmspe:0.126620\ttrain-rmspe:0.142042\n",
      "[259]\teval-rmspe:0.126548\ttrain-rmspe:0.142054\n",
      "[260]\teval-rmspe:0.126473\ttrain-rmspe:0.142011\n",
      "[261]\teval-rmspe:0.126408\ttrain-rmspe:0.141941\n",
      "[262]\teval-rmspe:0.126383\ttrain-rmspe:0.141880\n",
      "[263]\teval-rmspe:0.126354\ttrain-rmspe:0.141662\n",
      "[264]\teval-rmspe:0.126393\ttrain-rmspe:0.141611\n",
      "[265]\teval-rmspe:0.126513\ttrain-rmspe:0.141585\n",
      "[266]\teval-rmspe:0.126539\ttrain-rmspe:0.141346\n",
      "[267]\teval-rmspe:0.126491\ttrain-rmspe:0.141267\n",
      "[268]\teval-rmspe:0.126405\ttrain-rmspe:0.141342\n",
      "[269]\teval-rmspe:0.126397\ttrain-rmspe:0.141329\n",
      "[270]\teval-rmspe:0.126374\ttrain-rmspe:0.141259\n",
      "[271]\teval-rmspe:0.126362\ttrain-rmspe:0.141245\n",
      "[272]\teval-rmspe:0.126342\ttrain-rmspe:0.141143\n",
      "[273]\teval-rmspe:0.126305\ttrain-rmspe:0.141104\n",
      "[274]\teval-rmspe:0.126317\ttrain-rmspe:0.141068\n",
      "[275]\teval-rmspe:0.126246\ttrain-rmspe:0.140995\n",
      "[276]\teval-rmspe:0.126234\ttrain-rmspe:0.140978\n",
      "[277]\teval-rmspe:0.126163\ttrain-rmspe:0.140930\n",
      "[278]\teval-rmspe:0.126167\ttrain-rmspe:0.140871\n",
      "[279]\teval-rmspe:0.126155\ttrain-rmspe:0.140803\n",
      "[280]\teval-rmspe:0.126102\ttrain-rmspe:0.140383\n",
      "[281]\teval-rmspe:0.126017\ttrain-rmspe:0.140364\n",
      "[282]\teval-rmspe:0.125945\ttrain-rmspe:0.140263\n",
      "[283]\teval-rmspe:0.125903\ttrain-rmspe:0.140268\n",
      "[284]\teval-rmspe:0.125787\ttrain-rmspe:0.140212\n",
      "[285]\teval-rmspe:0.125804\ttrain-rmspe:0.139416\n",
      "[286]\teval-rmspe:0.125742\ttrain-rmspe:0.139408\n",
      "[287]\teval-rmspe:0.125774\ttrain-rmspe:0.139307\n",
      "[288]\teval-rmspe:0.125794\ttrain-rmspe:0.139330\n",
      "[289]\teval-rmspe:0.125766\ttrain-rmspe:0.139298\n",
      "[290]\teval-rmspe:0.125747\ttrain-rmspe:0.139272\n",
      "[291]\teval-rmspe:0.125720\ttrain-rmspe:0.139214\n",
      "[292]\teval-rmspe:0.125649\ttrain-rmspe:0.139111\n",
      "[293]\teval-rmspe:0.125173\ttrain-rmspe:0.139017\n",
      "[294]\teval-rmspe:0.125163\ttrain-rmspe:0.138979\n",
      "[295]\teval-rmspe:0.125147\ttrain-rmspe:0.138954\n",
      "[296]\teval-rmspe:0.125148\ttrain-rmspe:0.138933\n",
      "[297]\teval-rmspe:0.125122\ttrain-rmspe:0.139181\n",
      "[298]\teval-rmspe:0.125066\ttrain-rmspe:0.139137\n"
     ]
    },
    {
     "name": "stdout",
     "output_type": "stream",
     "text": [
      "Train a XGBoost model\n",
      "844337    2013-01-02\n",
      "Name: Date, dtype: object\n"
     ]
    },
    {
     "name": "stderr",
     "output_type": "stream",
     "text": [
      "[299]\teval-rmspe:0.125069\ttrain-rmspe:0.139096\n"
     ]
    }
   ],
   "source": [
    "print(\"Train a XGBoost model\")\n",
    "val_size = 100000\n",
    "#train = train.sort(['Date'])\n",
    "print(train.tail(1)['Date'])\n",
    "X_train, X_test = cross_validation.train_test_split(train, test_size=0.01)\n",
    "#X_train, X_test = train.head(len(train) - val_size), train.tail(val_size)\n",
    "dtrain = xgb.DMatrix(X_train[features], np.log(X_train[\"Sales\"] + 1))\n",
    "dvalid = xgb.DMatrix(X_test[features], np.log(X_test[\"Sales\"] + 1))\n",
    "dtest = xgb.DMatrix(test[features])\n",
    "watchlist = [(dvalid, 'eval'), (dtrain, 'train')]\n",
    "\n",
    "params = {\"objective\": \"reg:linear\",\n",
    "          \"eta\": 0.3,\n",
    "          \"max_depth\": 8,\n",
    "          \"subsample\": 0.7,\n",
    "          \"colsample_bytree\": 0.7,\n",
    "          \"silent\": 1\n",
    "          }\n",
    "num_trees = 300\n",
    "\n",
    "gbm = xgb.train(params, dtrain, num_trees, evals=watchlist, early_stopping_rounds=50, \n",
    "                feval=rmspe_xg, verbose_eval=True)"
   ]
  },
  {
   "cell_type": "code",
   "execution_count": 19,
   "metadata": {
    "collapsed": false
   },
   "outputs": [
    {
     "data": {
      "text/plain": [
       "<matplotlib.axes._subplots.AxesSubplot at 0x10bb611d0>"
      ]
     },
     "execution_count": 19,
     "metadata": {},
     "output_type": "execute_result"
    },
    {
     "data": {
      "image/png": "[encoded data removed]",
      "text/plain": [
       "<matplotlib.figure.Figure at 0x10bb61690>"
      ]
     },
     "metadata": {},
     "output_type": "display_data"
    }
   ],
   "source": [
    "xgb.plot_importance(gbm)"
   ]
  },
  {
   "cell_type": "code",
   "execution_count": 20,
   "metadata": {
    "collapsed": false,
    "scrolled": false
   },
   "outputs": [
    {
     "name": "stdout",
     "output_type": "stream",
     "text": [
      "Validating\n",
      "Train error 0.125068655574\n",
      "Make predictions on the test set\n"
     ]
    }
   ],
   "source": [
    "print(\"Validating\")\n",
    "train_probs = gbm.predict(xgb.DMatrix(X_test[features]))\n",
    "indices = train_probs < 0\n",
    "train_probs[indices] = 0\n",
    "error = rmspe(np.exp(train_probs) - 1, X_test['Sales'].values)\n",
    "print('Train error', error)\n",
    "\n",
    "print(\"Make predictions on the test set\")\n",
    "test_probs = gbm.predict(xgb.DMatrix(test[features]))\n",
    "indices = test_probs < 0\n",
    "test_probs[indices] = 0\n",
    "submission = pd.DataFrame({\"Id\": test[\"Id\"], \"Sales\": np.exp(test_probs) - 1})\n",
    "submission.to_csv(\"../submissions/xgboost_kscript_submission.csv\", index=False)       "
   ]
  }
 ],
 "metadata": {
  "kernelspec": {
   "display_name": "Python 2",
   "language": "python",
   "name": "python2"
  },
  "language_info": {
   "codemirror_mode": {
    "name": "ipython",
    "version": 2
   },
   "file_extension": ".py",
   "mimetype": "text/x-python",
   "name": "python",
   "nbconvert_exporter": "python",
   "pygments_lexer": "ipython2",
   "version": "2.7.10"
  }
 },
 "nbformat": 4,
 "nbformat_minor": 0
}
